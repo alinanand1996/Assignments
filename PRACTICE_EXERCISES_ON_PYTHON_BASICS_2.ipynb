{
  "nbformat": 4,
  "nbformat_minor": 0,
  "metadata": {
    "colab": {
      "provenance": []
    },
    "kernelspec": {
      "name": "python3",
      "display_name": "Python 3"
    },
    "language_info": {
      "name": "python"
    }
  },
  "cells": [
    {
      "cell_type": "code",
      "execution_count": 16,
      "metadata": {
        "id": "sFoumOgcACes"
      },
      "outputs": [],
      "source": [
        "import math\n",
        "import statistics\n"
      ]
    },
    {
      "cell_type": "markdown",
      "source": [
        "# **Question 1**"
      ],
      "metadata": {
        "id": "S-25Ae4MANqW"
      }
    },
    {
      "cell_type": "code",
      "source": [
        "def count_char(s):\n",
        "  character={}\n",
        "  for c in s:\n",
        "    if c not in character:\n",
        "      character[c]=1\n",
        "    else:\n",
        "      character[c]+=1\n",
        "  return(character)\n",
        "\n",
        "string=input(\"enter a string : \")\n",
        "cnt_c=count_char(string)\n",
        "print(str(cnt_c))\n"
      ],
      "metadata": {
        "colab": {
          "base_uri": "https://localhost:8080/"
        },
        "id": "X94GH0njAUvO",
        "outputId": "b6021c1f-848e-4540-be14-0ba25364c7f6"
      },
      "execution_count": null,
      "outputs": [
        {
          "output_type": "stream",
          "name": "stdout",
          "text": [
            "enter a string : hai hello\n",
            "{'h': 2, 'a': 1, 'i': 1, ' ': 1, 'e': 1, 'l': 2, 'o': 1}\n"
          ]
        }
      ]
    },
    {
      "cell_type": "markdown",
      "source": [
        "# **Question 2**"
      ],
      "metadata": {
        "id": "RDy6Ml_SAVnG"
      }
    },
    {
      "cell_type": "code",
      "source": [
        "def maximum(a,b,c):\n",
        "  if a>b and a>c:\n",
        "    return(a)\n",
        "  elif b>a and b>c:\n",
        "    return(b)\n",
        "  else:\n",
        "    return(c)\n",
        "x=int(input(\"enter first number : \"))\n",
        "y=int(input(\"enter second number : \"))\n",
        "z=int(input(\"enter third number : \"))\n",
        "g=maximum(x,y,z)\n",
        "print(\"The greatest of the given numbers is \",g)"
      ],
      "metadata": {
        "colab": {
          "base_uri": "https://localhost:8080/"
        },
        "id": "kO9Fq-cGAXTf",
        "outputId": "9886b45f-c045-4bf2-b341-015e88122c8b"
      },
      "execution_count": null,
      "outputs": [
        {
          "output_type": "stream",
          "name": "stdout",
          "text": [
            "enter first number : 56\n",
            "enter second number : 23\n",
            "enter third number : 98\n",
            "The greatest of the given numbers is  98\n"
          ]
        }
      ]
    },
    {
      "cell_type": "markdown",
      "source": [
        "# **Question 3**"
      ],
      "metadata": {
        "id": "KhRLXwvAAYDr"
      }
    },
    {
      "cell_type": "code",
      "source": [
        "def exponent(base,exp):\n",
        "  val=int(base**exp)\n",
        "  return(val)\n",
        "b=int(input(\"enter base value : \"))\n",
        "e=int(input(\"enter exponent : \"))\n",
        "print(\"value is : \",exponent(b,e))"
      ],
      "metadata": {
        "colab": {
          "base_uri": "https://localhost:8080/"
        },
        "id": "WcrulpG5AZup",
        "outputId": "a52d2b9b-abe3-469c-a022-7c2b03679e9b"
      },
      "execution_count": null,
      "outputs": [
        {
          "output_type": "stream",
          "name": "stdout",
          "text": [
            "enter base value : 4\n",
            "enter exponent : 2\n",
            "value is :  16\n"
          ]
        }
      ]
    },
    {
      "cell_type": "markdown",
      "source": [
        "# **Question 4**"
      ],
      "metadata": {
        "id": "AESXVV00AaUD"
      }
    },
    {
      "cell_type": "code",
      "source": [
        "\n",
        "def sum_cube(a):\n",
        "  c=0\n",
        "  for i in range(1,a):\n",
        "    val=i**3\n",
        "    c=val+c\n",
        "  return(c)\n",
        "x=int(input(\"enter a positive integer : \"))\n",
        "print(\"sum of cubes of numbers within the given limit is \",sum_cube(x))"
      ],
      "metadata": {
        "colab": {
          "base_uri": "https://localhost:8080/"
        },
        "id": "ZouCsnqsAb9l",
        "outputId": "bc6166e8-2498-4ca3-abbe-33bd77427191"
      },
      "execution_count": 9,
      "outputs": [
        {
          "output_type": "stream",
          "name": "stdout",
          "text": [
            "enter a positive integer : 5\n",
            "sum of cubes of numbers within the given limit is  100\n"
          ]
        }
      ]
    },
    {
      "cell_type": "markdown",
      "source": [
        "# **Question 5**"
      ],
      "metadata": {
        "id": "RWLRJ3lUAeT2"
      }
    },
    {
      "cell_type": "code",
      "source": [
        "for i in range(1,11):\n",
        "  if i%2==0 and i%5==0:\n",
        "    print(\"FizzBuzz\")\n",
        "  elif i%2==0:\n",
        "    print(\"Fizz\")\n",
        "  elif i%5==0:\n",
        "    print(\"Buzz\")\n",
        "  else:\n",
        "    print(i)"
      ],
      "metadata": {
        "id": "21GY7uKJAfqx",
        "colab": {
          "base_uri": "https://localhost:8080/"
        },
        "outputId": "93e11c81-b88d-478a-f82b-7041b3393ad7"
      },
      "execution_count": 7,
      "outputs": [
        {
          "output_type": "stream",
          "name": "stdout",
          "text": [
            "1\n",
            "Fizz\n",
            "3\n",
            "Fizz\n",
            "Buzz\n",
            "Fizz\n",
            "7\n",
            "Fizz\n",
            "9\n",
            "FizzBuzz\n"
          ]
        }
      ]
    },
    {
      "cell_type": "markdown",
      "source": [
        "# **Question 6**"
      ],
      "metadata": {
        "id": "HFNGvwhSAgP2"
      }
    },
    {
      "cell_type": "code",
      "source": [
        "\n",
        "flag='y'\n",
        "lst=[]\n",
        "while(flag!='N'):\n",
        "  a=int(input(\"enter a number : \"))\n",
        "  lst.append(a)\n",
        "  f=input(\"Do you want to continue (enter Y for yes/ N for No) : \")\n",
        "  flag=f.upper()\n",
        "f=statistics.mode(lst)\n",
        "print(\"The most frequent item in the given list is \",f)"
      ],
      "metadata": {
        "id": "fh-DRnz6AhoB",
        "colab": {
          "base_uri": "https://localhost:8080/"
        },
        "outputId": "67237f3b-450c-4b75-ada7-d4dd627a273a"
      },
      "execution_count": 4,
      "outputs": [
        {
          "output_type": "stream",
          "name": "stdout",
          "text": [
            "enter a number : 5\n",
            "Do you want to continue (enter Y for yes/ N for No) : y\n",
            "enter a number : 4\n",
            "Do you want to continue (enter Y for yes/ N for No) : y\n",
            "enter a number : 5\n",
            "Do you want to continue (enter Y for yes/ N for No) : y\n",
            "enter a number : 3\n",
            "Do you want to continue (enter Y for yes/ N for No) : n\n",
            "The most frequent item in the given list is  5\n"
          ]
        }
      ]
    },
    {
      "cell_type": "markdown",
      "source": [
        "# **Question 7**"
      ],
      "metadata": {
        "id": "UxKi1sPlAi3C"
      }
    },
    {
      "cell_type": "code",
      "source": [
        "def sum_sqr(a):\n",
        "  c=0\n",
        "  for i in a:\n",
        "    val=i**2\n",
        "    c+=val\n",
        "  return(c)\n",
        "flag='y'\n",
        "lst=[]\n",
        "while(flag!='N'):\n",
        "  a=int(input(\"enter a number : \"))\n",
        "  lst.append(a)\n",
        "  f=input(\"Do you want to continue (enter Y for yes/ N for No) : \")\n",
        "  flag=f.upper()\n",
        "s=sum_sqr(lst)\n",
        "print(\"Sum of squares of the given list is \",s)"
      ],
      "metadata": {
        "id": "G5QoxfJKAkQS",
        "colab": {
          "base_uri": "https://localhost:8080/"
        },
        "outputId": "68ba3843-2f78-4b76-8ae7-e3a90872b986"
      },
      "execution_count": 8,
      "outputs": [
        {
          "output_type": "stream",
          "name": "stdout",
          "text": [
            "enter a number : 5\n",
            "Do you want to continue (enter Y for yes/ N for No) : y\n",
            "enter a number : 2\n",
            "Do you want to continue (enter Y for yes/ N for No) : y\n",
            "enter a number : 4\n",
            "Do you want to continue (enter Y for yes/ N for No) : n\n",
            "Sum of squares of the given list is  45\n"
          ]
        }
      ]
    },
    {
      "cell_type": "markdown",
      "source": [
        "# **Question 8**"
      ],
      "metadata": {
        "id": "Khbqu0zNAlCD"
      }
    },
    {
      "cell_type": "code",
      "source": [
        "for i in range(1,16):\n",
        "  if i%2==0:\n",
        "    print(i,\" - even\")\n",
        "  else:\n",
        "    print(i,\" - odd\")"
      ],
      "metadata": {
        "id": "uwNHqzIoAmZm",
        "colab": {
          "base_uri": "https://localhost:8080/"
        },
        "outputId": "69ebf27a-31e1-4586-b471-cf4184a5af7b"
      },
      "execution_count": 10,
      "outputs": [
        {
          "output_type": "stream",
          "name": "stdout",
          "text": [
            "1  - odd\n",
            "2  - even\n",
            "3  - odd\n",
            "4  - even\n",
            "5  - odd\n",
            "6  - even\n",
            "7  - odd\n",
            "8  - even\n",
            "9  - odd\n",
            "10  - even\n",
            "11  - odd\n",
            "12  - even\n",
            "13  - odd\n",
            "14  - even\n",
            "15  - odd\n"
          ]
        }
      ]
    },
    {
      "cell_type": "markdown",
      "source": [
        "# **Question 9**"
      ],
      "metadata": {
        "id": "h1LUqzR1Anop"
      }
    },
    {
      "cell_type": "code",
      "source": [
        "t=input(\"What format you want to convert ? \\n to convert form degree celcius to faranheat enter C \\n or from faranheat to degree celciun enter F : \")\n",
        "tp=t.upper()\n",
        "if tp=='C':\n",
        "  c=float(input(\"Enter the temperature in degree celcius : \"))\n",
        "  far=((c/5)*9)+32\n",
        "  print(\"the temperature in faranheat is : \",far)\n",
        "else:\n",
        "  f=float(input(\"Enter the temperature in faranheat : \"))\n",
        "  c=((f-32)/9)*5\n",
        "  print(\"the temperature in degree celcius is : \",c)"
      ],
      "metadata": {
        "id": "Surk4JEHApO0",
        "colab": {
          "base_uri": "https://localhost:8080/"
        },
        "outputId": "35ffc4b6-1b0f-4b8b-9b2a-772f796acecb"
      },
      "execution_count": 12,
      "outputs": [
        {
          "output_type": "stream",
          "name": "stdout",
          "text": [
            "What format you want to convert ? \n",
            " to convert form degree celcius to faranheat enter C \n",
            " or from faranheat to degree celciun enter F : c\n",
            "Enter the temperature in degree celcius : 32\n",
            "the temperature in faranheat is :  89.6\n"
          ]
        }
      ]
    },
    {
      "cell_type": "markdown",
      "source": [
        "# **Question 10**"
      ],
      "metadata": {
        "id": "ViU2XkMFAp2K"
      }
    },
    {
      "cell_type": "code",
      "source": [
        "def factorial(n):\n",
        "  i=n\n",
        "  f=i\n",
        "  while i>=2:\n",
        "    f=f*(i-1)\n",
        "    i-=1\n",
        "  return(f)\n",
        "num=int(input(\"Enter a number : \"))\n",
        "fac=factorial(num)\n",
        "print(\"Factorial of given number is \",fac)"
      ],
      "metadata": {
        "id": "a6chw-82ArfA",
        "colab": {
          "base_uri": "https://localhost:8080/"
        },
        "outputId": "9ca8cd58-3d9e-45ae-fcda-fa7ad78e40c7"
      },
      "execution_count": 15,
      "outputs": [
        {
          "output_type": "stream",
          "name": "stdout",
          "text": [
            "Enter a number : 3\n",
            "Factorial of given number is  6\n"
          ]
        }
      ]
    },
    {
      "cell_type": "code",
      "source": [],
      "metadata": {
        "id": "QO7o9xy8ptcC"
      },
      "execution_count": null,
      "outputs": []
    }
  ]
}