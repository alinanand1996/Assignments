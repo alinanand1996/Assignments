{
  "nbformat": 4,
  "nbformat_minor": 0,
  "metadata": {
    "colab": {
      "provenance": []
    },
    "kernelspec": {
      "name": "python3",
      "display_name": "Python 3"
    },
    "language_info": {
      "name": "python"
    }
  },
  "cells": [
    {
      "cell_type": "code",
      "execution_count": 1,
      "metadata": {
        "id": "CKJqJWGZS1dr"
      },
      "outputs": [],
      "source": [
        "import math\n"
      ]
    },
    {
      "cell_type": "markdown",
      "source": [
        "**Question 1**\n",
        "Write a Python program which accepts the radius of a circle from the user and compute the area.\n",
        "Sample input: Enter the radius: 3\n",
        "Sample output: Area of Circle is 28.59999999999"
      ],
      "metadata": {
        "id": "-diiopfeUlU4"
      }
    },
    {
      "cell_type": "code",
      "source": [
        "r=int(input(\"enter the radius : \"))\n",
        "area=math.pi*(r**2)\n",
        "print(\"Area of given circle is : \",area)"
      ],
      "metadata": {
        "colab": {
          "base_uri": "https://localhost:8080/"
        },
        "id": "mWYvuUNBUUDQ",
        "outputId": "76521423-f151-4672-a91b-f841f70ae551"
      },
      "execution_count": null,
      "outputs": [
        {
          "output_type": "stream",
          "name": "stdout",
          "text": [
            "enter the radius : 3\n",
            "Area of given circle is :  28.274333882308138\n"
          ]
        }
      ]
    },
    {
      "cell_type": "markdown",
      "source": [
        "**Question 2**\n",
        "Write a Python Program to accept the details of a student like name, roll\n",
        "number and mark and display it.\n",
        "Sample input: Enter the name: Anisha\n",
        "Enter the roll number: 21\n",
        "Enter the mark: 78\n",
        "Sample output: Name: Anisha\n",
        "Roll No: 21\n",
        "Mark: 78"
      ],
      "metadata": {
        "id": "itaVsdHYer6h"
      }
    },
    {
      "cell_type": "code",
      "source": [
        "nam=input(\"enter the name : \")\n",
        "rno=int(input(\"enter the rollno : \"))\n",
        "mrk=int(input(\"enter the total marks : \"))\n",
        "print(\"\\nName : \",nam,\"\\nRoll No : \",rno,\"\\nMark : \",mrk)"
      ],
      "metadata": {
        "colab": {
          "base_uri": "https://localhost:8080/"
        },
        "id": "yb5ID4H2eaVo",
        "outputId": "e064ba79-f850-4745-e40d-f47d87370c7e"
      },
      "execution_count": null,
      "outputs": [
        {
          "output_type": "stream",
          "name": "stdout",
          "text": [
            "enter the name : lia\n",
            "enter the rollno : 5\n",
            "enter the total marks : 87\n",
            "\n",
            "Name :  lia \n",
            "Roll No :  5 \n",
            "Mark :  87\n"
          ]
        }
      ]
    },
    {
      "cell_type": "markdown",
      "source": [
        "**Question 3**\n",
        "Write a Python program to get the largest number from a list.\n",
        "Sample input: 12, 3, 47, 10\n",
        "Sample output: 47 is the largest number."
      ],
      "metadata": {
        "id": "Mm7Zg8MogSKQ"
      }
    },
    {
      "cell_type": "code",
      "source": [
        "flag='y'\n",
        "lst=[]\n",
        "while(flag!='N'):\n",
        "  a=int(input(\"enter a number : \"))\n",
        "  lst.append(a)\n",
        "  f=input(\"Do you want to continue (enter Y for yes/ N for No) : \")\n",
        "  flag=f.upper()\n",
        "large=max(lst)\n",
        "print(\"\\nLargest element in the given list is : \",large)\n",
        "\n",
        "\n"
      ],
      "metadata": {
        "colab": {
          "base_uri": "https://localhost:8080/"
        },
        "id": "onasiHLEgAHf",
        "outputId": "90fac68d-cfd7-4679-c71a-f0e6d5c7aee9"
      },
      "execution_count": null,
      "outputs": [
        {
          "output_type": "stream",
          "name": "stdout",
          "text": [
            "enter a number : 4\n",
            "Do you want to continue (enter Y for yes/ N for No) : y\n",
            "enter a number : 9\n",
            "Do you want to continue (enter Y for yes/ N for No) : y\n",
            "enter a number : 12\n",
            "Do you want to continue (enter Y for yes/ N for No) : y\n",
            "enter a number : 7\n",
            "Do you want to continue (enter Y for yes/ N for No) : y\n",
            "enter a number : 2\n",
            "Do you want to continue (enter Y for yes/ N for No) : n\n",
            "\n",
            "Largest element in the given list is :  12\n"
          ]
        }
      ]
    },
    {
      "cell_type": "markdown",
      "source": [
        "**Question 4**\n",
        "Given a range of first 10 numbers, write a Python program to iterate from start number to the end number and print the sum of the current number and previous number.\n",
        "Sample input: 1….10\n",
        "Sample output: Current Number 1 Previous Number 0 Sum: 1 Current Number 2 Previous Number 1 Sum: 3 Current Number 3 Previous Number 2 Sum: 5… Current Number 10 Previous Number 9 Sum: 19"
      ],
      "metadata": {
        "id": "ed3bAN6DlWmh"
      }
    },
    {
      "cell_type": "code",
      "source": [
        "lst1=[1,2,3,4,5,6,7,8,9,10]\n",
        "i=0\n",
        "j=0\n",
        "while(i<10):\n",
        "  s=lst1[i]+j\n",
        "  print(\"Previous number : \",j,\" Current number : \",lst1[i],\" Sum : \",s)\n",
        "  j=lst1[i]\n",
        "  i+=1\n"
      ],
      "metadata": {
        "colab": {
          "base_uri": "https://localhost:8080/"
        },
        "id": "fQQNBDu6j0NQ",
        "outputId": "2cfdf68b-4819-49f2-ddae-8f5bc936f856"
      },
      "execution_count": null,
      "outputs": [
        {
          "output_type": "stream",
          "name": "stdout",
          "text": [
            "Previous number :  0  Current number :  1  Sum :  1\n",
            "Previous number :  1  Current number :  2  Sum :  3\n",
            "Previous number :  2  Current number :  3  Sum :  5\n",
            "Previous number :  3  Current number :  4  Sum :  7\n",
            "Previous number :  4  Current number :  5  Sum :  9\n",
            "Previous number :  5  Current number :  6  Sum :  11\n",
            "Previous number :  6  Current number :  7  Sum :  13\n",
            "Previous number :  7  Current number :  8  Sum :  15\n",
            "Previous number :  8  Current number :  9  Sum :  17\n",
            "Previous number :  9  Current number :  10  Sum :  19\n"
          ]
        }
      ]
    },
    {
      "cell_type": "markdown",
      "source": [
        "**Question 5**\n",
        "Write a Python program to print only those numbers which are divisible of 5.\n",
        "Sample input: 10, 20,33,46,55 Sample output: 10, 20, 55"
      ],
      "metadata": {
        "id": "TiaBRY_cndO_"
      }
    },
    {
      "cell_type": "code",
      "source": [
        "flag='y'\n",
        "lst=[]\n",
        "while(flag!='N'):\n",
        "  a=int(input(\"enter a number : \"))\n",
        "  lst.append(a)\n",
        "  f=input(\"Do you want to continue (enter Y for yes/ N for No) : \")\n",
        "  flag=f.upper()\n",
        "lst1=[]\n",
        "for i in lst:\n",
        "  if i%5==0:\n",
        "    lst1.append(i)\n",
        "print(lst1)"
      ],
      "metadata": {
        "id": "YzyOCt4InHbB",
        "colab": {
          "base_uri": "https://localhost:8080/"
        },
        "outputId": "cb14bde7-e625-4e55-ff68-89ec57ef5288"
      },
      "execution_count": null,
      "outputs": [
        {
          "output_type": "stream",
          "name": "stdout",
          "text": [
            "enter a number : 8\n",
            "Do you want to continue (enter Y for yes/ N for No) : y\n",
            "enter a number : 10\n",
            "Do you want to continue (enter Y for yes/ N for No) : y\n",
            "enter a number : 15\n",
            "Do you want to continue (enter Y for yes/ N for No) : y\n",
            "enter a number : 23\n",
            "Do you want to continue (enter Y for yes/ N for No) : y\n",
            "enter a number : 80\n",
            "Do you want to continue (enter Y for yes/ N for No) : n\n",
            "[10, 15, 80]\n"
          ]
        }
      ]
    },
    {
      "cell_type": "markdown",
      "source": [
        "** Question 6 :\n",
        "Write a Python program to check whether a number is prime or not. Sample input: Enter the number: 3\n",
        "Sample output: 3 is a prime number.**"
      ],
      "metadata": {
        "id": "qt9QkYx9iswp"
      }
    },
    {
      "cell_type": "code",
      "source": [
        "n=int(input(\"enter a number\"))\n",
        "if n>1:\n",
        "  for i in range(2,n):\n",
        "    if n%i==0:\n",
        "      print(n,\" is not prime\")\n",
        "      break\n",
        "    else:\n",
        "      print(n,\" is prime\")\n",
        "      break\n",
        "else:\n",
        "  print(n,\" is not prime\")"
      ],
      "metadata": {
        "id": "hApov2oJ8YvW",
        "colab": {
          "base_uri": "https://localhost:8080/"
        },
        "outputId": "b972ae17-b50b-45f9-b94b-0ab4b199db8b"
      },
      "execution_count": 2,
      "outputs": [
        {
          "output_type": "stream",
          "name": "stdout",
          "text": [
            "enter a number3\n",
            "3  is prime\n"
          ]
        }
      ]
    },
    {
      "cell_type": "markdown",
      "source": [
        "# **Question 7**\n",
        "**Write a Python program to reverse a list using for loop.\n",
        "Sample input: 10,40,30,70\n",
        "Sample output: 70,30,40,10**"
      ],
      "metadata": {
        "id": "-O8GYpTnkg0p"
      }
    },
    {
      "cell_type": "code",
      "source": [
        "flag='y'\n",
        "lst=[]\n",
        "while(flag!='N'):\n",
        "  a=int(input(\"enter a number : \"))\n",
        "  lst.append(a)\n",
        "  f=input(\"Do you want to continue (enter Y for yes/ N for No) : \")\n",
        "  flag=f.upper()\n",
        "\n",
        "lst1=lst[::-1]\n",
        "print(\"input list : \",lst)\n",
        "print(\"Reversed list : \",lst1)"
      ],
      "metadata": {
        "colab": {
          "base_uri": "https://localhost:8080/"
        },
        "id": "nCtb-8jBlRg1",
        "outputId": "aa9ae978-7ddc-4b03-a0c1-bd48f2d5dc3d"
      },
      "execution_count": 10,
      "outputs": [
        {
          "output_type": "stream",
          "name": "stdout",
          "text": [
            "enter a number : 2\n",
            "Do you want to continue (enter Y for yes/ N for No) : y\n",
            "enter a number : 4\n",
            "Do you want to continue (enter Y for yes/ N for No) : y\n",
            "enter a number : 3\n",
            "Do you want to continue (enter Y for yes/ N for No) : y\n",
            "enter a number : 7\n",
            "Do you want to continue (enter Y for yes/ N for No) : y\n",
            "enter a number : 9\n",
            "Do you want to continue (enter Y for yes/ N for No) : y\n",
            "enter a number : 8\n",
            "Do you want to continue (enter Y for yes/ N for No) : n\n",
            "input list :  [2, 4, 3, 7, 9, 8]\n",
            "Reversed list :  [8, 9, 7, 3, 4, 2]\n"
          ]
        }
      ]
    },
    {
      "cell_type": "markdown",
      "source": [
        "# **Question 8**"
      ],
      "metadata": {
        "id": "vQDmrRGI0CQ-"
      }
    },
    {
      "cell_type": "code",
      "source": [
        "for i in range(1,5):\n",
        "  print(i*'*')\n"
      ],
      "metadata": {
        "colab": {
          "base_uri": "https://localhost:8080/"
        },
        "id": "w0rH6L2lvEoR",
        "outputId": "b819f1b1-0f9f-4cc2-f323-3c083d52b844"
      },
      "execution_count": 2,
      "outputs": [
        {
          "output_type": "stream",
          "name": "stdout",
          "text": [
            "*\n",
            "**\n",
            "***\n",
            "****\n"
          ]
        }
      ]
    },
    {
      "cell_type": "markdown",
      "source": [
        "# **Qusetion 9**"
      ],
      "metadata": {
        "id": "EXlfJkUq9wNu"
      }
    },
    {
      "cell_type": "code",
      "source": [
        "a=int(input(\"enter first number : \"))\n",
        "b=int(input(\"enter second number : \"))\n",
        "c=int(input(\"enter third number : \"))\n",
        "if a>b and a>c:\n",
        "  print(a,\"is the greatest\")\n",
        "elif b>a and b>c:\n",
        "  print(b,\"is the greatest\")\n",
        "else:\n",
        "  print(c,\"is the greatest\")"
      ],
      "metadata": {
        "colab": {
          "base_uri": "https://localhost:8080/"
        },
        "id": "bZ_u0UMYz5UB",
        "outputId": "a71d130b-755f-4029-e337-4bd7bcfcf89c"
      },
      "execution_count": 3,
      "outputs": [
        {
          "output_type": "stream",
          "name": "stdout",
          "text": [
            "enter first number : 3\n",
            "enter second number : 6\n",
            "enter third number : 10\n",
            "10 is the greatest\n"
          ]
        }
      ]
    },
    {
      "cell_type": "markdown",
      "source": [
        "# **Question 10**"
      ],
      "metadata": {
        "id": "UqlVWqnz92MZ"
      }
    },
    {
      "cell_type": "code",
      "source": [
        "for i in range(1,6):\n",
        "  print(i*'*')\n",
        "  if i==5:\n",
        "    j=4\n",
        "    while j>=1:\n",
        "      print(j*'*')\n",
        "      j=j-1\n",
        "\n"
      ],
      "metadata": {
        "colab": {
          "base_uri": "https://localhost:8080/"
        },
        "id": "EPQaZs1t9qth",
        "outputId": "250637ef-7f3b-4036-a738-c8320dc591ad"
      },
      "execution_count": 8,
      "outputs": [
        {
          "output_type": "stream",
          "name": "stdout",
          "text": [
            "*\n",
            "**\n",
            "***\n",
            "****\n",
            "*****\n",
            "****\n",
            "***\n",
            "**\n",
            "*\n"
          ]
        }
      ]
    },
    {
      "cell_type": "code",
      "source": [],
      "metadata": {
        "id": "0pns1RQe_CSW"
      },
      "execution_count": null,
      "outputs": []
    }
  ]
}